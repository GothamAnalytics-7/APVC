{
 "cells": [
  {
   "cell_type": "markdown",
   "metadata": {},
   "source": [
    "<img src=\"https://www.iscte-iul.pt/assets/images/logo_iscte_detailed.svg\" style=\"width: 450px;margin-top:30px;\" align =\"center\">\n",
    "\n",
    "<div style= \"font-size: 40px;  margin-top:40px; font-weight:bold; font-family: 'Avenir Next LT Pro', sans-serif;\"><center>Challenge 1 - Part 2: <strong>Binary Classification model</strong></center></div>\n",
    "<div style= \"font-size: 40px; font-weight:bold; font-family: 'Avenir Next LT Pro', sans-serif;\"><center>for FASHION_MNIST dataset using neural networks</center></div>\n",
    "\n",
    "<div style= \"font-size: 27px;font-weight:bold;line-height: 1.1; margin-top:40px; font-family: 'Avenir Next LT Pro', sans-serif;\"><center>Aprendizagem Profunda para Visão por Computador 2024/2025</center></div> <br>\n",
    "\n",
    "   <div style= \"font-size: 20px;font-weight:bold; font-family: 'Avenir Next LT Pro', sans-serif;\"><center> Grupo 7:</center></div>\n",
    "   <div><center> Diogo Freitas | 104841 </center></div>\n",
    "   <div><center> João Francisco Botas | 104782 </center></div>\n",
    "   <div><center> Miguel Gonçalves | 105944 </center></div>\n",
    "   <div><center> Ricardo Galvão | 105285 </center></div>"
   ]
  },
  {
   "cell_type": "markdown",
   "metadata": {},
   "source": [
    "<!DOCTYPE html>\n",
    "<html lang=\"en\">\n",
    "<head>\n",
    "    <meta charset=\"UTF-8\">\n",
    "    <meta name=\"viewport\" content=\"width=device-width, initial-scale=1.0\">\n",
    "    <style>\n",
    "        body {\n",
    "            font-family: Arial, sans-serif;\n",
    "            background-color: #f4f4f4;\n",
    "            color: #333;\n",
    "            margin: 0;\n",
    "            padding: 20px;\n",
    "            line-height: 1.6;\n",
    "        }\n",
    "        ol {\n",
    "            counter-reset: section;\n",
    "            list-style: none;\n",
    "            padding-left: 0;\n",
    "        }\n",
    "        /* First-level list */\n",
    "        ol > li {\n",
    "            counter-increment: section;\n",
    "            margin-bottom: 10px;\n",
    "            padding-left: 0;\n",
    "        }\n",
    "        ol > li::before {\n",
    "            content: counters(section, \".\") \" \";\n",
    "            font-weight: bold;\n",
    "        }\n",
    "        /* Second-level list */\n",
    "        ol ol {\n",
    "            counter-reset: subsection;\n",
    "            padding-left: 20px;\n",
    "            margin-top: 5px;\n",
    "        }\n",
    "        ol ol > li {\n",
    "            counter-increment: subsection;\n",
    "            margin-bottom: 5px;\n",
    "            padding-left: 10px;\n",
    "        }\n",
    "        ol ol > li::before {\n",
    "            content: counters(section, \".\") \".\" counter(subsection) \" \";\n",
    "            font-weight: bold;\n",
    "        }\n",
    "        /* Third-level list */\n",
    "        ol ol ol {\n",
    "            counter-reset: subsubsection;\n",
    "            padding-left: 40px;\n",
    "            margin-top: 5px;\n",
    "        }\n",
    "        ol ol ol > li {\n",
    "            counter-increment: subsubsection;\n",
    "            margin-bottom: 5px;\n",
    "            padding-left: 10px;\n",
    "            font-size: 0.9em; /* Make font size smaller */\n",
    "            font-weight: normal; /* Remove bold styling */\n",
    "        }\n",
    "        ol ol ol > li::before {\n",
    "            content: counters(section, \".\") \".\" counter(subsection) \".\" counter(subsubsection) \" \";\n",
    "            font-weight: bold;\n",
    "        }\n",
    "        a {\n",
    "            text-decoration: none;\n",
    "            color: #007BFF;\n",
    "            font-weight: bold;\n",
    "        }\n",
    "        a:hover {\n",
    "            color: #0056b3;\n",
    "        }\n",
    "        footer {\n",
    "            margin-top: 50px;\n",
    "        }\n",
    "    </style>\n",
    "</head>\n",
    "<body>\n",
    "\n",
    "<h2><b>Índice</b></h2>\n",
    "<ol>\n",
    "    <li><a href=\"#1\">Objetivo desta parte</a></li>\n",
    "    <li><a href=\"#2\">Setup para desenvolvimento do projeto</a></li>\n",
    "    <li><a href=\"#3\">Classificação binária</a></li>\n",
    "        <ol>\n",
    "            <li><a href=\"#3.1\">Obter um conjunto de validação</a></li>\n",
    "            <li><a href=\"#3.2\">Construir o modelo</a></li>\n",
    "            <li><a href=\"#3.3\">Compilar a rede</a></li>\n",
    "            <li><a href=\"#3.4\">Treinar o modelo – max 50 épocas, de pref. a usar callbacks</a></li>\n",
    "            <li><a href=\"#3.5\">Gráfico que mostre a evolução do treino</a></li>\n",
    "            <li><a href=\"#3.6\">Cálculo dos acertos no conjunto de teste</a></li>\n",
    "            <li><a href=\"#3.7\">Mostrar a matriz de confusão</a></li>\n",
    "        </ol>\n",
    "    \n",
    "</ol>\n",
    "\n",
    "<footer></footer>\n",
    "\n",
    "</body>\n",
    "</html>"
   ]
  },
  {
   "cell_type": "markdown",
   "metadata": {},
   "source": [
    "# <a class='anchor' id='1'></a>\n",
    "\n",
    "> # **1. Objetivo desta parte** "
   ]
  },
  {
   "cell_type": "markdown",
   "metadata": {},
   "source": [
    "Transformar o problema multi-classe de 10 classes num problema de classificação binário. Para isso serão realizados algumas alterações que na secção <a href=\"#2\">Setup para desenvolvimento do projeto</a>\n",
    "\n",
    "- Mapear cada uma das 10 classes para um grupo específico: Vestuário ou Calçado/Malas;\n",
    "- Alterar parâmetros do modelo: binary_crossentropy.\n",
    "\n",
    "```python\n",
    "'''\n",
    "| CLASSE_10 | PEÇA         || NOVA_CLASSE\n",
    "| 0         | T-shirt/top  || 1\n",
    "| 1         | Trouser      || 1\n",
    "| 2         | Pullover     || 1\n",
    "| 3         | Dress        || 1\n",
    "| 4         | Coat         || 1\n",
    "| 5         | Sandal       || 0\n",
    "| 6         | Shirt        || 1\n",
    "| 7         | Sneaker      || 0\n",
    "| 8         | Bag          || 0\n",
    "| 9         | Ankle boot   || 0\n",
    "\n",
    "Labels:\n",
    "1- Vestuário\n",
    "0- Calçado/Malas\n",
    "'''\n",
    "\n",
    "BINARY_MAP = {\n",
    "    0: 1, 1: 1, 2: 1, 3: 1, 4: 1, 6: 1,  # Vestuário -> 1\n",
    "    5: 0, 7: 0, 8: 0, 9: 0   # Calçado/Malas -> 0\n",
    "}\n",
    "y_train = np.vectorize(BINARY_MAP.get)(y_train)\n",
    "y_test = np.vectorize(BINARY_MAP.get)(y_test)\n",
    "\n",
    "y_train = keras.utils.to_categorical(y_train,N_CLASSES)\n",
    "y_test = keras.utils.to_categorical(y_test,N_CLASSES)"
   ]
  },
  {
   "cell_type": "markdown",
   "metadata": {},
   "source": [
    "# <a class='anchor' id='2'></a>\n",
    "\n",
    "> # **2. Setup para desenvolvimento do projeto**"
   ]
  },
  {
   "cell_type": "code",
   "execution_count": 1,
   "metadata": {},
   "outputs": [],
   "source": [
    "import tensorflow as tf\n",
    "import keras\n",
    "from keras import layers\n",
    "\n",
    "import numpy as np\n",
    "import matplotlib.pyplot as plt\n",
    "from sklearn.metrics import ConfusionMatrixDisplay, confusion_matrix, classification_report\n",
    "from sklearn.model_selection import train_test_split\n",
    "\n",
    "import seaborn as sns\n",
    "import sys\n",
    "import os\n",
    "sys.path.append(os.path.abspath('../src'))"
   ]
  },
  {
   "cell_type": "code",
   "execution_count": 2,
   "metadata": {},
   "outputs": [
    {
     "name": "stdout",
     "output_type": "stream",
     "text": [
      "WARNING:tensorflow:From C:\\Users\\Avey\\miniforge3\\envs\\apvc\\lib\\site-packages\\keras\\src\\backend\\common\\global_state.py:82: The name tf.reset_default_graph is deprecated. Please use tf.compat.v1.reset_default_graph instead.\n",
      "\n"
     ]
    }
   ],
   "source": [
    "# Configurar a seed do TensorFlow\n",
    "tf.random.set_seed(42)\n",
    "\n",
    "# Configurar a seed do NumPy\n",
    "np.random.seed(42)\n",
    "\n",
    "# Configurar a seed do Keras (caso precise especificar a nível do Keras)\n",
    "keras.backend.clear_session()\n",
    "\n",
    "# Definir o número de threads\n",
    "os.environ['TF_CPP_MIN_LOG_LEVEL'] = '2'  # Para evitar log excessivo de TensorFlow\n",
    "os.environ['OMP_NUM_THREADS'] = '1'  # Para limitar o número de threads\n",
    "\n",
    "# Definir a seed global para a operação de GPU\n",
    "tf.config.experimental.enable_op_determinism()"
   ]
  },
  {
   "cell_type": "code",
   "execution_count": 3,
   "metadata": {},
   "outputs": [
    {
     "name": "stdout",
     "output_type": "stream",
     "text": [
      "IMG_HEIGHT: 28\n",
      "IMG_WIDTH: 28\n",
      "N_CLASSES: 2\n",
      "\n",
      "Número de amostras no training set original: 60000\n",
      "Número de amostras no test set original: 10000\n",
      "Não esquecer que se pretende também gerar um validation set!\n"
     ]
    },
    {
     "data": {
      "image/png": "[encoded data removed]",
      "text/plain": [
       "<Figure size 640x480 with 1 Axes>"
      ]
     },
     "metadata": {},
     "output_type": "display_data"
    }
   ],
   "source": [
    "# constantes - dimensão das imagens\n",
    "IMG_HEIGHT = 28\n",
    "IMG_WIDTH = 28\n",
    "\n",
    "# constantes - labels/classes\n",
    "LABELS = [\"Vestuário\",\n",
    "          \"Calçado/Malas\"]\n",
    "N_CLASSES = 2\n",
    "\n",
    "print(\"IMG_HEIGHT: \" + str(IMG_HEIGHT))\n",
    "print(\"IMG_WIDTH: \" + str(IMG_WIDTH))\n",
    "print(\"N_CLASSES: \" + str(N_CLASSES) + \"\\n\")\n",
    "\n",
    "# callbacks\n",
    "BEST_MODEL_CHECKPOINT = keras.callbacks.ModelCheckpoint(\n",
    "    filepath=\"tmp/best_model.weights.h5\",      # ficheiro para os pesos do \"melhor modelo\"\n",
    "    save_weights_only=True,\n",
    "    monitor='val_loss',\n",
    "    mode='min',\n",
    "    save_best_only=True)\n",
    "\n",
    "EARLY_STOPPING = keras.callbacks.EarlyStopping(\n",
    "    monitor='val_loss',\n",
    "    patience=5)\n",
    "\n",
    "# carregar o dataset FASHION_MNIST\n",
    "dataset = keras.datasets.fashion_mnist\n",
    "(x_train, y_train), (x_test, y_test) = dataset.load_data()\n",
    "\n",
    "# normalização\n",
    "x_train = x_train / 255.0\n",
    "x_test = x_test / 255.0\n",
    "\n",
    "print(\"Número de amostras no training set original: \" + str(x_train.shape[0]))\n",
    "print(\"Número de amostras no test set original: \" + str(x_test.shape[0]))\n",
    "print(\"Não esquecer que se pretende também gerar um validation set!\")\n",
    "\n",
    "BINARY_MAP = {\n",
    "    0: 1, 1: 1, 2: 1, 3: 1, 4: 1, 6: 1,  # Vestuário -> 1\n",
    "    5: 0, 7: 0, 8: 0, 9: 0   # Calçado/Malas -> 0\n",
    "}\n",
    "\n",
    "y_train = np.vectorize(BINARY_MAP.get)(y_train)\n",
    "y_test = np.vectorize(BINARY_MAP.get)(y_test)\n",
    "\n",
    "y_train = keras.utils.to_categorical(y_train,N_CLASSES)\n",
    "y_test = keras.utils.to_categorical(y_test,N_CLASSES)\n",
    "\n",
    "# Visualizar a primeira imagem do conjunto de treino\n",
    "plt.imshow(x_train[3])\n",
    "plt.title(f'Classe: {LABELS[np.argmax(y_train[0])]}')\n",
    "plt.axis('off')  # Esconder os eixos\n",
    "plt.show()"
   ]
  },
  {
   "cell_type": "markdown",
   "metadata": {},
   "source": [
    "# <a class='anchor' id='3'></a>\n",
    "\n",
    "> # **3. Classificação binária**"
   ]
  },
  {
   "cell_type": "markdown",
   "metadata": {},
   "source": [
    "# <a class='anchor' id='3.1'></a>\n",
    "\n",
    "> ## **a) Obter um conjunto de validação**"
   ]
  },
  {
   "cell_type": "code",
   "execution_count": 4,
   "metadata": {},
   "outputs": [
    {
     "name": "stdout",
     "output_type": "stream",
     "text": [
      "Número de amostras no training set: 49800\n",
      "Número de amostras no validation set: 10200\n",
      "Número de amostras no test set: 10000\n"
     ]
    }
   ],
   "source": [
    "# Criar conjunto de validação (17% dos dados de treino)\n",
    "x_train, x_val, y_train, y_val = train_test_split(x_train, y_train, test_size=0.17, random_state=42)\n",
    "\n",
    "print(\"Número de amostras no training set:\", x_train.shape[0])\n",
    "print(\"Número de amostras no validation set:\", x_val.shape[0])\n",
    "print(\"Número de amostras no test set:\", x_test.shape[0])"
   ]
  },
  {
   "cell_type": "markdown",
   "metadata": {},
   "source": [
    "# <a class='anchor' id='3.2'></a>\n",
    "\n",
    "> ## **b) Construir o modelo**"
   ]
  },
  {
   "cell_type": "code",
   "execution_count": 5,
   "metadata": {},
   "outputs": [
    {
     "name": "stderr",
     "output_type": "stream",
     "text": [
      "C:\\Users\\Avey\\miniforge3\\envs\\apvc\\lib\\site-packages\\keras\\src\\layers\\reshaping\\flatten.py:37: UserWarning: Do not pass an `input_shape`/`input_dim` argument to a layer. When using Sequential models, prefer using an `Input(shape)` object as the first layer in the model instead.\n",
      "  super().__init__(**kwargs)\n"
     ]
    }
   ],
   "source": [
    "# Criar o modelo\n",
    "modelo = keras.Sequential([\n",
    "    layers.Flatten(input_shape=(IMG_HEIGHT, IMG_WIDTH)),  # Transformar imagem 28x28 num vetor 1D\n",
    "    layers.Dense(128, activation='relu'),\n",
    "    layers.Dropout(0.2),\n",
    "    layers.Dense(N_CLASSES, activation='softmax')  # Camada de saída com as 10 classes da label\n",
    "])"
   ]
  },
  {
   "cell_type": "markdown",
   "metadata": {},
   "source": [
    "# <a class='anchor' id='3.3'></a>\n",
    "\n",
    "> ## **c) Compilar a rede**"
   ]
  },
  {
   "cell_type": "code",
   "execution_count": 6,
   "metadata": {},
   "outputs": [],
   "source": [
    "# Compilar o modelo\n",
    "modelo.compile(optimizer='adam', loss='categorical_crossentropy', metrics=['accuracy', tf.keras.metrics.Precision(), tf.keras.metrics.Recall()])"
   ]
  },
  {
   "cell_type": "markdown",
   "metadata": {},
   "source": [
    "# <a class='anchor' id='3.4'></a>\n",
    "\n",
    "> ## **d) Treinar o modelo – max 50 épocas, de pref. a usar callbacks**\n"
   ]
  },
  {
   "cell_type": "markdown",
   "metadata": {},
   "source": [
    "Serão utilizadas as callbacks seguintes (estas estão definidas no ficheiro `fashionNetPart2.py`):\n",
    "\n",
    "```python\n",
    "BEST_MODEL_CHECKPOINT = keras.callbacks.ModelCheckpoint(\n",
    "    filepath=\"tmp/best_model.weights.h5\",      # ficheiro para os pesos do \"melhor modelo\"\n",
    "    save_weights_only=True,\n",
    "    monitor='val_loss',\n",
    "    mode='min',\n",
    "    save_best_only=True)\n",
    "\n",
    "EARLY_STOPPING = keras.callbacks.EarlyStopping(\n",
    "    monitor='val_loss',\n",
    "    patience=5)"
   ]
  },
  {
   "cell_type": "code",
   "execution_count": 7,
   "metadata": {},
   "outputs": [
    {
     "name": "stdout",
     "output_type": "stream",
     "text": [
      "Epoch 1/50\n",
      "\u001b[1m779/779\u001b[0m \u001b[32m━━━━━━━━━━━━━━━━━━━━\u001b[0m\u001b[37m\u001b[0m \u001b[1m4s\u001b[0m 4ms/step - accuracy: 0.9755 - loss: 0.0743 - precision: 0.9755 - recall: 0.9755 - val_accuracy: 0.9907 - val_loss: 0.0354 - val_precision: 0.9907 - val_recall: 0.9907\n",
      "Epoch 2/50\n",
      "\u001b[1m779/779\u001b[0m \u001b[32m━━━━━━━━━━━━━━━━━━━━\u001b[0m\u001b[37m\u001b[0m \u001b[1m2s\u001b[0m 3ms/step - accuracy: 0.9931 - loss: 0.0272 - precision: 0.9931 - recall: 0.9931 - val_accuracy: 0.9929 - val_loss: 0.0268 - val_precision: 0.9929 - val_recall: 0.9929\n",
      "Epoch 3/50\n",
      "\u001b[1m779/779\u001b[0m \u001b[32m━━━━━━━━━━━━━━━━━━━━\u001b[0m\u001b[37m\u001b[0m \u001b[1m2s\u001b[0m 3ms/step - accuracy: 0.9941 - loss: 0.0220 - precision: 0.9941 - recall: 0.9941 - val_accuracy: 0.9938 - val_loss: 0.0239 - val_precision: 0.9938 - val_recall: 0.9938\n",
      "Epoch 4/50\n",
      "\u001b[1m779/779\u001b[0m \u001b[32m━━━━━━━━━━━━━━━━━━━━\u001b[0m\u001b[37m\u001b[0m \u001b[1m2s\u001b[0m 3ms/step - accuracy: 0.9950 - loss: 0.0185 - precision: 0.9950 - recall: 0.9950 - val_accuracy: 0.9936 - val_loss: 0.0236 - val_precision: 0.9936 - val_recall: 0.9936\n",
      "Epoch 5/50\n",
      "\u001b[1m779/779\u001b[0m \u001b[32m━━━━━━━━━━━━━━━━━━━━\u001b[0m\u001b[37m\u001b[0m \u001b[1m2s\u001b[0m 3ms/step - accuracy: 0.9953 - loss: 0.0167 - precision: 0.9953 - recall: 0.9953 - val_accuracy: 0.9940 - val_loss: 0.0196 - val_precision: 0.9940 - val_recall: 0.9940\n",
      "Epoch 6/50\n",
      "\u001b[1m779/779\u001b[0m \u001b[32m━━━━━━━━━━━━━━━━━━━━\u001b[0m\u001b[37m\u001b[0m \u001b[1m2s\u001b[0m 3ms/step - accuracy: 0.9955 - loss: 0.0143 - precision: 0.9955 - recall: 0.9955 - val_accuracy: 0.9944 - val_loss: 0.0205 - val_precision: 0.9944 - val_recall: 0.9944\n",
      "Epoch 7/50\n",
      "\u001b[1m779/779\u001b[0m \u001b[32m━━━━━━━━━━━━━━━━━━━━\u001b[0m\u001b[37m\u001b[0m \u001b[1m2s\u001b[0m 3ms/step - accuracy: 0.9965 - loss: 0.0129 - precision: 0.9965 - recall: 0.9965 - val_accuracy: 0.9939 - val_loss: 0.0267 - val_precision: 0.9939 - val_recall: 0.9939\n",
      "Epoch 8/50\n",
      "\u001b[1m779/779\u001b[0m \u001b[32m━━━━━━━━━━━━━━━━━━━━\u001b[0m\u001b[37m\u001b[0m \u001b[1m2s\u001b[0m 3ms/step - accuracy: 0.9967 - loss: 0.0117 - precision: 0.9967 - recall: 0.9967 - val_accuracy: 0.9927 - val_loss: 0.0249 - val_precision: 0.9927 - val_recall: 0.9927\n",
      "Epoch 9/50\n",
      "\u001b[1m779/779\u001b[0m \u001b[32m━━━━━━━━━━━━━━━━━━━━\u001b[0m\u001b[37m\u001b[0m \u001b[1m3s\u001b[0m 3ms/step - accuracy: 0.9967 - loss: 0.0113 - precision: 0.9967 - recall: 0.9967 - val_accuracy: 0.9937 - val_loss: 0.0217 - val_precision: 0.9937 - val_recall: 0.9937\n",
      "Epoch 10/50\n",
      "\u001b[1m779/779\u001b[0m \u001b[32m━━━━━━━━━━━━━━━━━━━━\u001b[0m\u001b[37m\u001b[0m \u001b[1m2s\u001b[0m 2ms/step - accuracy: 0.9974 - loss: 0.0095 - precision: 0.9974 - recall: 0.9974 - val_accuracy: 0.9925 - val_loss: 0.0261 - val_precision: 0.9925 - val_recall: 0.9925\n"
     ]
    }
   ],
   "source": [
    "# Treinar o modelo (máx. 50 épocas, usando callbacks)\n",
    "history = modelo.fit(x_train, y_train, epochs=50, batch_size=64, \n",
    "                      validation_data=(x_val, y_val),\n",
    "                      callbacks=[BEST_MODEL_CHECKPOINT, EARLY_STOPPING]) # CALLBACKS definidas no ficheiro fashionNetPart2.py"
   ]
  },
  {
   "cell_type": "markdown",
   "metadata": {},
   "source": [
    "# <a class='anchor' id='3.5'></a>\n",
    "\n",
    "> ## **e) Gráfico que mostre a evolução do treino**"
   ]
  },
  {
   "cell_type": "code",
   "execution_count": 8,
   "metadata": {},
   "outputs": [
    {
     "ename": "OSError",
     "evalue": "'seaborn-darkgrid' is not a valid package style, path of style file, URL of style file, or library style name (library styles are listed in `style.available`)",
     "output_type": "error",
     "traceback": [
      "\u001b[1;31m---------------------------------------------------------------------------\u001b[0m",
      "\u001b[1;31mFileNotFoundError\u001b[0m                         Traceback (most recent call last)",
      "File \u001b[1;32m~\\miniforge3\\envs\\apvc\\lib\\site-packages\\matplotlib\\style\\core.py:129\u001b[0m, in \u001b[0;36muse\u001b[1;34m(style)\u001b[0m\n\u001b[0;32m    128\u001b[0m \u001b[38;5;28;01mtry\u001b[39;00m:\n\u001b[1;32m--> 129\u001b[0m     style \u001b[38;5;241m=\u001b[39m \u001b[43m_rc_params_in_file\u001b[49m\u001b[43m(\u001b[49m\u001b[43mstyle\u001b[49m\u001b[43m)\u001b[49m\n\u001b[0;32m    130\u001b[0m \u001b[38;5;28;01mexcept\u001b[39;00m \u001b[38;5;167;01mOSError\u001b[39;00m \u001b[38;5;28;01mas\u001b[39;00m err:\n",
      "File \u001b[1;32m~\\miniforge3\\envs\\apvc\\lib\\site-packages\\matplotlib\\__init__.py:903\u001b[0m, in \u001b[0;36m_rc_params_in_file\u001b[1;34m(fname, transform, fail_on_error)\u001b[0m\n\u001b[0;32m    902\u001b[0m rc_temp \u001b[38;5;241m=\u001b[39m {}\n\u001b[1;32m--> 903\u001b[0m \u001b[38;5;28;01mwith\u001b[39;00m _open_file_or_url(fname) \u001b[38;5;28;01mas\u001b[39;00m fd:\n\u001b[0;32m    904\u001b[0m     \u001b[38;5;28;01mtry\u001b[39;00m:\n",
      "File \u001b[1;32m~\\miniforge3\\envs\\apvc\\lib\\contextlib.py:135\u001b[0m, in \u001b[0;36m_GeneratorContextManager.__enter__\u001b[1;34m(self)\u001b[0m\n\u001b[0;32m    134\u001b[0m \u001b[38;5;28;01mtry\u001b[39;00m:\n\u001b[1;32m--> 135\u001b[0m     \u001b[38;5;28;01mreturn\u001b[39;00m \u001b[38;5;28;43mnext\u001b[39;49m\u001b[43m(\u001b[49m\u001b[38;5;28;43mself\u001b[39;49m\u001b[38;5;241;43m.\u001b[39;49m\u001b[43mgen\u001b[49m\u001b[43m)\u001b[49m\n\u001b[0;32m    136\u001b[0m \u001b[38;5;28;01mexcept\u001b[39;00m \u001b[38;5;167;01mStopIteration\u001b[39;00m:\n",
      "File \u001b[1;32m~\\miniforge3\\envs\\apvc\\lib\\site-packages\\matplotlib\\__init__.py:880\u001b[0m, in \u001b[0;36m_open_file_or_url\u001b[1;34m(fname)\u001b[0m\n\u001b[0;32m    879\u001b[0m fname \u001b[38;5;241m=\u001b[39m os\u001b[38;5;241m.\u001b[39mpath\u001b[38;5;241m.\u001b[39mexpanduser(fname)\n\u001b[1;32m--> 880\u001b[0m \u001b[38;5;28;01mwith\u001b[39;00m \u001b[38;5;28;43mopen\u001b[39;49m\u001b[43m(\u001b[49m\u001b[43mfname\u001b[49m\u001b[43m,\u001b[49m\u001b[43m \u001b[49m\u001b[43mencoding\u001b[49m\u001b[38;5;241;43m=\u001b[39;49m\u001b[38;5;124;43m'\u001b[39;49m\u001b[38;5;124;43mutf-8\u001b[39;49m\u001b[38;5;124;43m'\u001b[39;49m\u001b[43m)\u001b[49m \u001b[38;5;28;01mas\u001b[39;00m f:\n\u001b[0;32m    881\u001b[0m     \u001b[38;5;28;01myield\u001b[39;00m f\n",
      "\u001b[1;31mFileNotFoundError\u001b[0m: [Errno 2] No such file or directory: 'seaborn-darkgrid'",
      "\nThe above exception was the direct cause of the following exception:\n",
      "\u001b[1;31mOSError\u001b[0m                                   Traceback (most recent call last)",
      "Cell \u001b[1;32mIn[8], line 2\u001b[0m\n\u001b[0;32m      1\u001b[0m \u001b[38;5;66;03m# Aplicar um estilo moderno\u001b[39;00m\n\u001b[1;32m----> 2\u001b[0m \u001b[43mplt\u001b[49m\u001b[38;5;241;43m.\u001b[39;49m\u001b[43mstyle\u001b[49m\u001b[38;5;241;43m.\u001b[39;49m\u001b[43muse\u001b[49m\u001b[43m(\u001b[49m\u001b[38;5;124;43m'\u001b[39;49m\u001b[38;5;124;43mseaborn-darkgrid\u001b[39;49m\u001b[38;5;124;43m'\u001b[39;49m\u001b[43m)\u001b[49m\n\u001b[0;32m      4\u001b[0m \u001b[38;5;66;03m# Criar a figura\u001b[39;00m\n\u001b[0;32m      5\u001b[0m plt\u001b[38;5;241m.\u001b[39mfigure(figsize\u001b[38;5;241m=\u001b[39m(\u001b[38;5;241m14\u001b[39m, \u001b[38;5;241m6\u001b[39m))\n",
      "File \u001b[1;32m~\\miniforge3\\envs\\apvc\\lib\\site-packages\\matplotlib\\style\\core.py:131\u001b[0m, in \u001b[0;36muse\u001b[1;34m(style)\u001b[0m\n\u001b[0;32m    129\u001b[0m         style \u001b[38;5;241m=\u001b[39m _rc_params_in_file(style)\n\u001b[0;32m    130\u001b[0m     \u001b[38;5;28;01mexcept\u001b[39;00m \u001b[38;5;167;01mOSError\u001b[39;00m \u001b[38;5;28;01mas\u001b[39;00m err:\n\u001b[1;32m--> 131\u001b[0m         \u001b[38;5;28;01mraise\u001b[39;00m \u001b[38;5;167;01mOSError\u001b[39;00m(\n\u001b[0;32m    132\u001b[0m             \u001b[38;5;124mf\u001b[39m\u001b[38;5;124m\"\u001b[39m\u001b[38;5;132;01m{\u001b[39;00mstyle\u001b[38;5;132;01m!r}\u001b[39;00m\u001b[38;5;124m is not a valid package style, path of style \u001b[39m\u001b[38;5;124m\"\u001b[39m\n\u001b[0;32m    133\u001b[0m             \u001b[38;5;124mf\u001b[39m\u001b[38;5;124m\"\u001b[39m\u001b[38;5;124mfile, URL of style file, or library style name (library \u001b[39m\u001b[38;5;124m\"\u001b[39m\n\u001b[0;32m    134\u001b[0m             \u001b[38;5;124mf\u001b[39m\u001b[38;5;124m\"\u001b[39m\u001b[38;5;124mstyles are listed in `style.available`)\u001b[39m\u001b[38;5;124m\"\u001b[39m) \u001b[38;5;28;01mfrom\u001b[39;00m\u001b[38;5;250m \u001b[39m\u001b[38;5;21;01merr\u001b[39;00m\n\u001b[0;32m    135\u001b[0m filtered \u001b[38;5;241m=\u001b[39m {}\n\u001b[0;32m    136\u001b[0m \u001b[38;5;28;01mfor\u001b[39;00m k \u001b[38;5;129;01min\u001b[39;00m style:  \u001b[38;5;66;03m# don't trigger RcParams.__getitem__('backend')\u001b[39;00m\n",
      "\u001b[1;31mOSError\u001b[0m: 'seaborn-darkgrid' is not a valid package style, path of style file, URL of style file, or library style name (library styles are listed in `style.available`)"
     ]
    }
   ],
   "source": [
    "# Aplicar um estilo moderno\n",
    "plt.style.use('seaborn-darkgrid')\n",
    "\n",
    "# Criar a figura\n",
    "plt.figure(figsize=(14, 6))\n",
    "\n",
    "# Subplot para Loss\n",
    "plt.subplot(1, 2, 1)\n",
    "plt.plot(history.history['loss'], label='Train Loss', color='royalblue', linestyle='-', marker='o')\n",
    "plt.plot(history.history['val_loss'], label='Validation Loss', color='crimson', linestyle='--', marker='s')\n",
    "plt.xlabel('Épocas', fontsize=12)\n",
    "plt.ylabel('Loss', fontsize=12)\n",
    "plt.title('Evolução do Loss', fontsize=14, fontweight='bold')\n",
    "plt.legend()\n",
    "plt.grid(True, linestyle='--', alpha=0.6)\n",
    "\n",
    "# Subplot para Accuracy\n",
    "plt.subplot(1, 2, 2)\n",
    "plt.plot(history.history['accuracy'], label='Train Accuracy', color='royalblue', linestyle='-', marker='o')\n",
    "plt.plot(history.history['val_accuracy'], label='Validation Accuracy', color='crimson', linestyle='--', marker='s')\n",
    "plt.xlabel('Épocas', fontsize=12)\n",
    "plt.ylabel('Accuracy', fontsize=12)\n",
    "plt.title('Evolução da Accuracy', fontsize=14, fontweight='bold')\n",
    "plt.legend()\n",
    "plt.grid(True, linestyle='--', alpha=0.6)\n",
    "\n",
    "# Ajustar espaçamento\n",
    "plt.tight_layout()\n",
    "plt.show()"
   ]
  },
  {
   "cell_type": "code",
   "execution_count": null,
   "metadata": {},
   "outputs": [],
   "source": [
    "modelo.load_weights(\"tmp/best_model.weights.h5\")"
   ]
  },
  {
   "cell_type": "markdown",
   "metadata": {},
   "source": [
    "# <a class='anchor' id='3.6'></a>\n",
    "\n",
    "> ## **f) Cálculo dos acertos no conjunto de teste**"
   ]
  },
  {
   "cell_type": "code",
   "execution_count": null,
   "metadata": {},
   "outputs": [],
   "source": [
    "# Avaliação no conjunto de teste\n",
    "test_loss, test_acc = modelo.evaluate(x_test, y_test, verbose=0)[:2]\n",
    "num_acertos = int(test_acc * x_test.shape[0])\n",
    "print(f'Accuracy no conjunto de teste: {test_acc:.4f}')\n",
    "print(f'Número absoluto de acertos: {num_acertos}/{x_test.shape[0]}')"
   ]
  },
  {
   "cell_type": "markdown",
   "metadata": {},
   "source": [
    "# <a class='anchor' id='3.7'></a>\n",
    "\n",
    "> ## **g) Mostrar a matriz de confusão**"
   ]
  },
  {
   "cell_type": "code",
   "execution_count": null,
   "metadata": {},
   "outputs": [],
   "source": [
    "# Predições e matriz de confusão\n",
    "y_pred = modelo.predict(x_test)\n",
    "y_pred_classes = np.argmax(y_pred, axis=1)\n",
    "y_true_classes = np.argmax(y_test, axis=1)\n",
    "\n",
    "cm = confusion_matrix(y_true_classes, y_pred_classes)\n",
    "plt.figure(figsize=(10, 7))\n",
    "sns.heatmap(cm, annot=True, fmt='d', cmap='Blues', xticklabels=LABELS, yticklabels=LABELS)\n",
    "plt.xlabel('Predito')\n",
    "plt.ylabel('Real')\n",
    "plt.title('Matriz de Confusão')\n",
    "plt.xticks(rotation=45)\n",
    "plt.yticks(rotation=45)\n",
    "plt.show()"
   ]
  },
  {
   "cell_type": "code",
   "execution_count": null,
   "metadata": {},
   "outputs": [],
   "source": [
    "# Relatório de classificação\n",
    "print(\"Relatório de Classificação:\")\n",
    "print(classification_report(y_true_classes, y_pred_classes, target_names=LABELS))"
   ]
  },
  {
   "cell_type": "code",
   "execution_count": null,
   "metadata": {},
   "outputs": [],
   "source": [
    "TP = cm[1, 1]  # Verdadeiro Positivo\n",
    "FP = cm[0, 1]  # Falso Positivo\n",
    "TN = cm[0, 0]  # Verdadeiro Negativo\n",
    "FN = cm[1, 0]  # Falso Negativo\n",
    "\n",
    "# Precisão, Recall e F1-Score\n",
    "precision = TP / (TP + FP)\n",
    "recall = TP / (TP + FN)\n",
    "f1_score = 2 * (precision * recall) / (precision + recall)\n",
    "\n",
    "print(f\"Precisão: {precision}\")\n",
    "print(f\"Recall: {recall}\")\n",
    "print(f\"F1-Score: {f1_score}\")\n"
   ]
  }
 ],
 "metadata": {
  "kernelspec": {
   "display_name": "Python 3 (ipykernel)",
   "language": "python",
   "name": "python3"
  },
  "language_info": {
   "codemirror_mode": {
    "name": "ipython",
    "version": 3
   },
   "file_extension": ".py",
   "mimetype": "text/x-python",
   "name": "python",
   "nbconvert_exporter": "python",
   "pygments_lexer": "ipython3",
   "version": "3.10.16"
  }
 },
 "nbformat": 4,
 "nbformat_minor": 4
}
