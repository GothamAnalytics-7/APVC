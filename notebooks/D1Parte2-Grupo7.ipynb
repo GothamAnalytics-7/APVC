{
 "cells": [
  {
   "cell_type": "markdown",
   "metadata": {},
   "source": [
    "<img src=\"https://www.iscte-iul.pt/assets/images/logo_iscte_detailed.svg\" style=\"width: 450px;margin-top:30px;\" align =\"center\">\n",
    "\n",
    "<div style= \"font-size: 40px;  margin-top:40px; font-weight:bold; font-family: 'Avenir Next LT Pro', sans-serif;\"><center>Challenge 1 - Part 2: <strong>Binary Classification model</strong></center></div>\n",
    "<div style= \"font-size: 40px; font-weight:bold; font-family: 'Avenir Next LT Pro', sans-serif;\"><center>for FASHION_MNIST dataset using neural networks</center></div>\n",
    "\n",
    "<div style= \"font-size: 27px;font-weight:bold;line-height: 1.1; margin-top:40px; font-family: 'Avenir Next LT Pro', sans-serif;\"><center>Aprendizagem Profunda para Visão por Computador 2024/2025</center></div> <br>\n",
    "\n",
    "   <div style= \"font-size: 20px;font-weight:bold; font-family: 'Avenir Next LT Pro', sans-serif;\"><center> Grupo 7:</center></div>\n",
    "   <div><center> Diogo Freitas | 104841 </center></div>\n",
    "   <div><center> João Francisco Botas | 104782 </center></div>\n",
    "   <div><center> Miguel Gonçalves | 105944 </center></div>\n",
    "   <div><center> Ricardo Galvão | 105285 </center></div>"
   ]
  },
  {
   "cell_type": "markdown",
   "metadata": {},
   "source": []
  }
 ],
 "metadata": {
  "language_info": {
   "name": "python"
  }
 },
 "nbformat": 4,
 "nbformat_minor": 2
}
