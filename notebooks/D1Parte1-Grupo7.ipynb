{
 "cells": [
  {
   "cell_type": "markdown",
   "metadata": {},
   "source": [
    "<img src=\"https://www.iscte-iul.pt/assets/images/logo_iscte_detailed.svg\" style=\"width: 450px;margin-top:30px;\" align =\"center\">\n",
    "\n",
    "<div style= \"font-size: 40px;  margin-top:40px; font-weight:bold; font-family: 'Avenir Next LT Pro', sans-serif;\"><center>Challenge 1 - Part 1: <strong>Multi-Class Classification model</strong></center></div>\n",
    "<div style= \"font-size: 40px; font-weight:bold; font-family: 'Avenir Next LT Pro', sans-serif;\"><center>for FASHION_MNIST dataset using neural networks</center></div>\n",
    "\n",
    "<div style= \"font-size: 27px;font-weight:bold;line-height: 1.1; margin-top:40px; font-family: 'Avenir Next LT Pro', sans-serif;\"><center>Aprendizagem Profunda para Visão por Computador 2024/2025</center></div> <br>\n",
    "\n",
    "   <div style= \"font-size: 20px;font-weight:bold; font-family: 'Avenir Next LT Pro', sans-serif;\"><center> Grupo 7:</center></div>\n",
    "   <div><center> Diogo Freitas | 104841 </center></div>\n",
    "   <div><center> João Francisco Botas | 104782 </center></div>\n",
    "   <div><center> Miguel Gonçalves | 105944 </center></div>\n",
    "   <div><center> Ricardo Galvão | 105285 </center></div>"
   ]
  },
  {
   "cell_type": "markdown",
   "metadata": {},
   "source": [
    "<!DOCTYPE html>\n",
    "<html lang=\"en\">\n",
    "<head>\n",
    "    <meta charset=\"UTF-8\">\n",
    "    <meta name=\"viewport\" content=\"width=device-width, initial-scale=1.0\">\n",
    "    <style>\n",
    "        body {\n",
    "            font-family: Arial, sans-serif;\n",
    "            background-color: #f4f4f4;\n",
    "            color: #333;\n",
    "            margin: 0;\n",
    "            padding: 20px;\n",
    "            line-height: 1.6;\n",
    "        }\n",
    "        ol {\n",
    "            counter-reset: section;\n",
    "            list-style: none;\n",
    "            padding-left: 0;\n",
    "        }\n",
    "        /* First-level list */\n",
    "        ol > li {\n",
    "            counter-increment: section;\n",
    "            margin-bottom: 10px;\n",
    "            padding-left: 0;\n",
    "        }\n",
    "        ol > li::before {\n",
    "            content: counters(section, \".\") \" \";\n",
    "            font-weight: bold;\n",
    "        }\n",
    "        /* Second-level list */\n",
    "        ol ol {\n",
    "            counter-reset: subsection;\n",
    "            padding-left: 20px;\n",
    "            margin-top: 5px;\n",
    "        }\n",
    "        ol ol > li {\n",
    "            counter-increment: subsection;\n",
    "            margin-bottom: 5px;\n",
    "            padding-left: 10px;\n",
    "        }\n",
    "        ol ol > li::before {\n",
    "            content: counters(section, \".\") \".\" counter(subsection) \" \";\n",
    "            font-weight: bold;\n",
    "        }\n",
    "        /* Third-level list */\n",
    "        ol ol ol {\n",
    "            counter-reset: subsubsection;\n",
    "            padding-left: 40px;\n",
    "            margin-top: 5px;\n",
    "        }\n",
    "        ol ol ol > li {\n",
    "            counter-increment: subsubsection;\n",
    "            margin-bottom: 5px;\n",
    "            padding-left: 10px;\n",
    "            font-size: 0.9em; /* Make font size smaller */\n",
    "            font-weight: normal; /* Remove bold styling */\n",
    "        }\n",
    "        ol ol ol > li::before {\n",
    "            content: counters(section, \".\") \".\" counter(subsection) \".\" counter(subsubsection) \" \";\n",
    "            font-weight: bold;\n",
    "        }\n",
    "        a {\n",
    "            text-decoration: none;\n",
    "            color: #007BFF;\n",
    "            font-weight: bold;\n",
    "        }\n",
    "        a:hover {\n",
    "            color: #0056b3;\n",
    "        }\n",
    "        footer {\n",
    "            margin-top: 50px;\n",
    "        }\n",
    "    </style>\n",
    "</head>\n",
    "<body>\n",
    "\n",
    "<h2><b>Índice</b></h2>\n",
    "<ol>\n",
    "    <li><a href=\"#1\">Objetivo desta parte</a></li>\n",
    "    <li><a href=\"#2\">Setup para desenvolvimento do projeto</a></li>\n",
    "    \n",
    "</ol>\n",
    "\n",
    "<footer></footer>\n",
    "\n",
    "</body>\n",
    "</html>"
   ]
  },
  {
   "cell_type": "markdown",
   "metadata": {},
   "source": [
    "# <a class='anchor' id='1'></a>\n",
    "\n",
    "> # **1. Objetivo desta parte** "
   ]
  },
  {
   "cell_type": "markdown",
   "metadata": {},
   "source": [
    "1. Obter um conjunto de validação  \n",
    "2. Construir o modelo  \n",
    "3. Compilar a rede  \n",
    "4. Treinar o modelo – máximo de 50 épocas, de preferência usando callbacks  \n",
    "5. Gráfico que mostre a evolução do treino  \n",
    "6. Cálculo dos acertos no conjunto de teste  \n",
    "7. Mostrar a matriz de confusão  \n",
    "\n",
    "\n",
    "\n",
    "| Id Classe | Significado    | Id Classe | Significado   |\n",
    "|-----------|--------------|-----------|--------------|\n",
    "| 0         | T-shirt/top  | 5         | Sandal       |\n",
    "| 1         | Trouser      | 6         | Shirt        |\n",
    "| 2         | Pullover     | 7         | Sneaker      |\n",
    "| 3         | Dress        | 8         | Bag          |\n",
    "| 4         | Coat         | 9         | Ankle boot   |"
   ]
  },
  {
   "cell_type": "markdown",
   "metadata": {},
   "source": [
    "# <a class='anchor' id='2'></a>\n",
    "\n",
    "> # **2. Setup para desenvolvimento do projeto**"
   ]
  },
  {
   "cell_type": "code",
   "execution_count": 2,
   "metadata": {},
   "outputs": [],
   "source": [
    "import tensorflow as tf\n",
    "import keras\n",
    "from keras import layers\n",
    "\n",
    "import numpy as np\n",
    "import matplotlib.pyplot as plt\n",
    "from sklearn.metrics import ConfusionMatrixDisplay\n",
    "from sklearn.metrics import confusion_matrix"
   ]
  },
  {
   "cell_type": "code",
   "execution_count": null,
   "metadata": {},
   "outputs": [],
   "source": [
    "import sys\n",
    "import os\n",
    "sys.path.append(os.path.abspath('../src'))\n",
    "\n",
    "import fashionNet as fN # TODO: talvez colocar numa função o src/fashionNet.py"
   ]
  }
 ],
 "metadata": {
  "kernelspec": {
   "display_name": "venv",
   "language": "python",
   "name": "python3"
  },
  "language_info": {
   "codemirror_mode": {
    "name": "ipython",
    "version": 3
   },
   "file_extension": ".py",
   "mimetype": "text/x-python",
   "name": "python",
   "nbconvert_exporter": "python",
   "pygments_lexer": "ipython3",
   "version": "3.11.9"
  }
 },
 "nbformat": 4,
 "nbformat_minor": 2
}
