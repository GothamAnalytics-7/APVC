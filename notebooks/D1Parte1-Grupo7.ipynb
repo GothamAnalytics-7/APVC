{
 "cells": [
  {
   "cell_type": "markdown",
   "metadata": {},
   "source": [
    "<img src=\"https://www.iscte-iul.pt/assets/images/logo_iscte_detailed.svg\" style=\"width: 450px;margin-top:30px;\" align =\"center\">\n",
    "\n",
    "<div style= \"font-size: 40px;  margin-top:40px; font-weight:bold; font-family: 'Avenir Next LT Pro', sans-serif;\"><center>Challenge 1 - Part 1: <strong>Multi-Class Classification model</strong></center></div>\n",
    "<div style= \"font-size: 40px; font-weight:bold; font-family: 'Avenir Next LT Pro', sans-serif;\"><center>for FASHION_MNIST dataset using neural networks</center></div>\n",
    "\n",
    "<div style= \"font-size: 27px;font-weight:bold;line-height: 1.1; margin-top:40px; font-family: 'Avenir Next LT Pro', sans-serif;\"><center>Aprendizagem Profunda para Visão por Computador 2024/2025</center></div> <br>\n",
    "\n",
    "   <div style= \"font-size: 20px;font-weight:bold; font-family: 'Avenir Next LT Pro', sans-serif;\"><center> Grupo 7:</center></div>\n",
    "   <div><center> Diogo Freitas | 104841 </center></div>\n",
    "   <div><center> João Francisco Botas | 104782 </center></div>\n",
    "   <div><center> Miguel Gonçalves | 105944 </center></div>\n",
    "   <div><center> Ricardo Galvão | 105285 </center></div>"
   ]
  },
  {
   "cell_type": "markdown",
   "metadata": {},
   "source": [
    "<!DOCTYPE html>\n",
    "<html lang=\"en\">\n",
    "<head>\n",
    "    <meta charset=\"UTF-8\">\n",
    "    <meta name=\"viewport\" content=\"width=device-width, initial-scale=1.0\">\n",
    "    <style>\n",
    "        body {\n",
    "            font-family: Arial, sans-serif;\n",
    "            background-color: #f4f4f4;\n",
    "            color: #333;\n",
    "            margin: 0;\n",
    "            padding: 20px;\n",
    "            line-height: 1.6;\n",
    "        }\n",
    "        ol {\n",
    "            counter-reset: section;\n",
    "            list-style: none;\n",
    "            padding-left: 0;\n",
    "        }\n",
    "        /* First-level list */\n",
    "        ol > li {\n",
    "            counter-increment: section;\n",
    "            margin-bottom: 10px;\n",
    "            padding-left: 0;\n",
    "        }\n",
    "        ol > li::before {\n",
    "            content: counters(section, \".\") \" \";\n",
    "            font-weight: bold;\n",
    "        }\n",
    "        /* Second-level list */\n",
    "        ol ol {\n",
    "            counter-reset: subsection;\n",
    "            padding-left: 20px;\n",
    "            margin-top: 5px;\n",
    "        }\n",
    "        ol ol > li {\n",
    "            counter-increment: subsection;\n",
    "            margin-bottom: 5px;\n",
    "            padding-left: 10px;\n",
    "        }\n",
    "        ol ol > li::before {\n",
    "            content: counters(section, \".\") \".\" counter(subsection) \" \";\n",
    "            font-weight: bold;\n",
    "        }\n",
    "        /* Third-level list */\n",
    "        ol ol ol {\n",
    "            counter-reset: subsubsection;\n",
    "            padding-left: 40px;\n",
    "            margin-top: 5px;\n",
    "        }\n",
    "        ol ol ol > li {\n",
    "            counter-increment: subsubsection;\n",
    "            margin-bottom: 5px;\n",
    "            padding-left: 10px;\n",
    "            font-size: 0.9em; /* Make font size smaller */\n",
    "            font-weight: normal; /* Remove bold styling */\n",
    "        }\n",
    "        ol ol ol > li::before {\n",
    "            content: counters(section, \".\") \".\" counter(subsection) \".\" counter(subsubsection) \" \";\n",
    "            font-weight: bold;\n",
    "        }\n",
    "        a {\n",
    "            text-decoration: none;\n",
    "            color: #007BFF;\n",
    "            font-weight: bold;\n",
    "        }\n",
    "        a:hover {\n",
    "            color: #0056b3;\n",
    "        }\n",
    "        footer {\n",
    "            margin-top: 50px;\n",
    "        }\n",
    "    </style>\n",
    "</head>\n",
    "<body>\n",
    "\n",
    "<h2><b>Índice</b></h2>\n",
    "<ol>\n",
    "    <li><a href=\"#1\">Objetivo desta parte</a></li>\n",
    "    <li><a href=\"#2\">Setup para desenvolvimento do projeto</a></li>\n",
    "    <li><a href=\"#3\">Classificação multi-classe</a></li>\n",
    "        <ol>\n",
    "            <li><a href=\"#3.1\">Obter um conjunto de validação</a></li>\n",
    "            <li><a href=\"#3.2\">Construir o modelo</a></li>\n",
    "            <li><a href=\"#3.3\">Compilar a rede</a></li>\n",
    "            <li><a href=\"#3.4\">Treinar o modelo – max 50 épocas, de pref. a usar callbacks</a></li>\n",
    "            <li><a href=\"#3.5\">Gráfico que mostre a evolução do treino</a></li>\n",
    "            <li><a href=\"#3.6\">Cálculo dos acertos no conjunto de teste</a></li>\n",
    "            <li><a href=\"#3.7\">Mostrar a matriz de confusão</a></li>\n",
    "        </ol>\n",
    "    <li><a href=\"#4\">Conversão da Classificação multi-classe para Binária</a></li>\n",
    "</ol>\n",
    "\n",
    "<footer></footer>\n",
    "\n",
    "</body>\n",
    "</html>"
   ]
  },
  {
   "cell_type": "markdown",
   "metadata": {},
   "source": [
    "# <a class='anchor' id='1'></a>\n",
    "\n",
    "> # **1. Objetivo desta parte** "
   ]
  },
  {
   "cell_type": "markdown",
   "metadata": {},
   "source": [
    "1. Obter um conjunto de validação  \n",
    "2. Construir o modelo  \n",
    "3. Compilar a rede  \n",
    "4. Treinar o modelo – máximo de 50 épocas, de preferência usando callbacks  \n",
    "5. Gráfico que mostre a evolução do treino  \n",
    "6. Cálculo dos acertos no conjunto de teste  \n",
    "7. Mostrar a matriz de confusão  \n",
    "\n",
    "\n",
    "\n",
    "| Id Classe | Significado    | Id Classe | Significado   |\n",
    "|-----------|--------------|-----------|--------------|\n",
    "| 0         | T-shirt/top  | 5         | Sandal       |\n",
    "| 1         | Trouser      | 6         | Shirt        |\n",
    "| 2         | Pullover     | 7         | Sneaker      |\n",
    "| 3         | Dress        | 8         | Bag          |\n",
    "| 4         | Coat         | 9         | Ankle boot   |"
   ]
  },
  {
   "cell_type": "markdown",
   "metadata": {},
   "source": [
    "# <a class='anchor' id='2'></a>\n",
    "\n",
    "> # **2. Setup para desenvolvimento do projeto**"
   ]
  },
  {
   "cell_type": "code",
   "execution_count": null,
   "metadata": {},
   "outputs": [],
   "source": [
    "import tensorflow as tf\n",
    "import keras\n",
    "from keras import layers\n",
    "\n",
    "import numpy as np\n",
    "import matplotlib.pyplot as plt\n",
    "from sklearn.metrics import ConfusionMatrixDisplay, confusion_matrix, classification_report\n",
    "from sklearn.model_selection import train_test_split\n",
    "\n",
    "import seaborn as sns\n",
    "import sys\n",
    "import os"
   ]
  },
  {
   "cell_type": "code",
   "execution_count": null,
   "metadata": {},
   "outputs": [],
   "source": [
    "# Configurar a seed do TensorFlow\n",
    "tf.random.set_seed(42)\n",
    "\n",
    "# Configurar a seed do NumPy\n",
    "np.random.seed(42)\n",
    "\n",
    "# Configurar a seed do Keras (caso precise especificar a nível do Keras)\n",
    "keras.backend.clear_session()\n",
    "\n",
    "# Definir o número de threads\n",
    "os.environ['TF_CPP_MIN_LOG_LEVEL'] = '2'  # Para evitar log excessivo de TensorFlow\n",
    "os.environ['OMP_NUM_THREADS'] = '1'  # Para limitar o número de threads\n",
    "\n",
    "# Definir a seed global para a operação de GPU\n",
    "tf.config.experimental.enable_op_determinism()"
   ]
  },
  {
   "cell_type": "code",
   "execution_count": null,
   "metadata": {},
   "outputs": [],
   "source": [
    "import sys\n",
    "import os\n",
    "\n",
    "%run ../src/fashionNet.py\n",
    "\n",
    "# Ou então fazer %load ../src/fashionNet.py"
   ]
  },
  {
   "cell_type": "code",
   "execution_count": null,
   "metadata": {},
   "outputs": [],
   "source": [
    "# Visualizar a primeira imagem do conjunto de treino\n",
    "plt.imshow(x_train[3])\n",
    "plt.title(f'Classe: {LABELS[np.argmax(y_train[0])]}')\n",
    "plt.axis('off')  # Esconder os eixos\n",
    "plt.show()"
   ]
  },
  {
   "cell_type": "markdown",
   "metadata": {},
   "source": [
    "# <a class='anchor' id='3'></a>\n",
    "\n",
    "> # **3. Classificação multi-classe**"
   ]
  },
  {
   "cell_type": "markdown",
   "metadata": {},
   "source": [
    "# <a class='anchor' id='3.1'></a>\n",
    "\n",
    "> ## **a) Obter um conjunto de validação**"
   ]
  },
  {
   "cell_type": "code",
   "execution_count": null,
   "metadata": {},
   "outputs": [],
   "source": [
    "# Criar conjunto de validação (17% dos dados de treino)\n",
    "x_train, x_val, y_train, y_val = train_test_split(x_train, y_train, test_size=0.17, random_state=42)\n",
    "\n",
    "print(\"Número de amostras no training set:\", x_train.shape[0])\n",
    "print(\"Número de amostras no validation set:\", x_val.shape[0])\n",
    "print(\"Número de amostras no test set:\", x_test.shape[0])"
   ]
  },
  {
   "cell_type": "markdown",
   "metadata": {},
   "source": [
    "# <a class='anchor' id='3.2'></a>\n",
    "\n",
    "> ## **b) Construir o modelo**"
   ]
  },
  {
   "cell_type": "code",
   "execution_count": null,
   "metadata": {},
   "outputs": [],
   "source": [
    "# Criar o modelo\n",
    "modelo = keras.Sequential([\n",
    "    layers.Flatten(input_shape=(IMG_HEIGHT, IMG_WIDTH)),  # Transformar imagem 28x28 num vetor 1D\n",
    "    layers.Dense(128, activation='relu'),\n",
    "    layers.Dropout(0.2),\n",
    "    layers.Dense(N_CLASSES, activation='softmax')  # Camada de saída com as 10 classes da label\n",
    "])"
   ]
  },
  {
   "cell_type": "markdown",
   "metadata": {},
   "source": [
    "# <a class='anchor' id='3.3'></a>\n",
    "\n",
    "> ## **c) Compilar a rede**"
   ]
  },
  {
   "cell_type": "code",
   "execution_count": null,
   "metadata": {},
   "outputs": [],
   "source": [
    "# Compilar o modelo\n",
    "modelo.compile(optimizer='adam', loss='categorical_crossentropy', metrics=['accuracy', tf.keras.metrics.Precision(), tf.keras.metrics.Recall()])"
   ]
  },
  {
   "cell_type": "markdown",
   "metadata": {},
   "source": [
    "# <a class='anchor' id='3.4'></a>\n",
    "\n",
    "> ## **d) Treinar o modelo – max 50 épocas, de pref. a usar callbacks**\n"
   ]
  },
  {
   "cell_type": "code",
   "execution_count": null,
   "metadata": {},
   "outputs": [],
   "source": [
    "# Treinar o modelo (máx. 50 épocas, usando callbacks)\n",
    "history = modelo.fit(x_train, y_train, epochs=50, batch_size=64, \n",
    "                      validation_data=(x_val, y_val),\n",
    "                      callbacks=[BEST_MODEL_CHECKPOINT, EARLY_STOPPING])"
   ]
  },
  {
   "cell_type": "markdown",
   "metadata": {},
   "source": [
    "# <a class='anchor' id='3.5'></a>\n",
    "\n",
    "> ## **e) Gráfico que mostre a evolução do treino**"
   ]
  },
  {
   "cell_type": "code",
   "execution_count": null,
   "metadata": {},
   "outputs": [],
   "source": [
    "# Aplicar um estilo moderno\n",
    "# plt.style.use('seaborn-darkgrid')\n",
    "\n",
    "# Criar a figura\n",
    "plt.figure(figsize=(14, 6))\n",
    "\n",
    "# Subplot para Loss\n",
    "plt.subplot(1, 2, 1)\n",
    "plt.plot(history.history['loss'], label='Train Loss', color='royalblue', linestyle='-', marker='o')\n",
    "plt.plot(history.history['val_loss'], label='Validation Loss', color='crimson', linestyle='--', marker='s')\n",
    "plt.xlabel('Épocas', fontsize=12)\n",
    "plt.ylabel('Loss', fontsize=12)\n",
    "plt.title('Evolução do Loss', fontsize=14, fontweight='bold')\n",
    "plt.legend()\n",
    "plt.grid(True, linestyle='--', alpha=0.6)\n",
    "\n",
    "# Subplot para Accuracy\n",
    "plt.subplot(1, 2, 2)\n",
    "plt.plot(history.history['accuracy'], label='Train Accuracy', color='royalblue', linestyle='-', marker='o')\n",
    "plt.plot(history.history['val_accuracy'], label='Validation Accuracy', color='crimson', linestyle='--', marker='s')\n",
    "plt.xlabel('Épocas', fontsize=12)\n",
    "plt.ylabel('Accuracy', fontsize=12)\n",
    "plt.title('Evolução da Accuracy', fontsize=14, fontweight='bold')\n",
    "plt.legend()\n",
    "plt.grid(True, linestyle='--', alpha=0.6)\n",
    "\n",
    "# Ajustar espaçamento\n",
    "plt.tight_layout()\n",
    "plt.show()\n"
   ]
  },
  {
   "cell_type": "code",
   "execution_count": null,
   "metadata": {},
   "outputs": [],
   "source": [
    "modelo.load_weights(\"tmp/best_model.weights.h5\")"
   ]
  },
  {
   "cell_type": "markdown",
   "metadata": {},
   "source": [
    "# <a class='anchor' id='3.6'></a>\n",
    "\n",
    "> ## **f) Cálculo dos acertos no conjunto de teste**"
   ]
  },
  {
   "cell_type": "code",
   "execution_count": null,
   "metadata": {},
   "outputs": [],
   "source": [
    "# Avaliação no conjunto de teste\n",
    "test_loss, test_acc = modelo.evaluate(x_test, y_test, verbose=0)[:2]\n",
    "num_acertos = int(test_acc * x_test.shape[0])\n",
    "print(f'Accuracy no conjunto de teste: {test_acc:.4f}')\n",
    "print(f'Número absoluto de acertos: {num_acertos}/{x_test.shape[0]}')"
   ]
  },
  {
   "cell_type": "markdown",
   "metadata": {},
   "source": [
    "# <a class='anchor' id='3.7'></a>\n",
    "\n",
    "> ## **g) Mostrar a matriz de confusão**"
   ]
  },
  {
   "cell_type": "code",
   "execution_count": null,
   "metadata": {},
   "outputs": [],
   "source": [
    "# Predições e matriz de confusão\n",
    "y_pred = modelo.predict(x_test)\n",
    "y_pred_classes = np.argmax(y_pred, axis=1)\n",
    "y_true_classes = np.argmax(y_test, axis=1)\n",
    "\n",
    "cm = confusion_matrix(y_true_classes, y_pred_classes)\n",
    "plt.figure(figsize=(10, 7))\n",
    "sns.heatmap(cm, annot=True, fmt='d', cmap='Blues', xticklabels=LABELS, yticklabels=LABELS)\n",
    "plt.xlabel('Predito')\n",
    "plt.ylabel('Real')\n",
    "plt.title('Matriz de Confusão')\n",
    "plt.xticks(rotation=45)\n",
    "plt.yticks(rotation=45)\n",
    "plt.show()"
   ]
  },
  {
   "cell_type": "code",
   "execution_count": null,
   "metadata": {},
   "outputs": [],
   "source": [
    "# Relatório de classificação\n",
    "print(\"Relatório de Classificação:\")\n",
    "print(classification_report(y_true_classes, y_pred_classes, target_names=LABELS))"
   ]
  },
  {
   "cell_type": "markdown",
   "metadata": {},
   "source": [
    "# <a class='anchor' id='4'></a>\n",
    "\n",
    "> # **4. Conversão da Classificação multi-classe para Binária**"
   ]
  },
  {
   "cell_type": "code",
   "execution_count": null,
   "metadata": {},
   "outputs": [],
   "source": [
    "BINARY_MAP = {\n",
    "    0: 1, 1: 1, 2: 1, 3: 1, 4: 1, 6: 1,  # Vestuário -> 1\n",
    "    5: 0, 7: 0, 8: 0, 9: 0   # Calçado/Malas -> 0\n",
    "}\n",
    "\n",
    "# Aplicar o mapeamento binário aos rótulos verdadeiros e preditos\n",
    "y_true_bin = np.vectorize(BINARY_MAP.get)(y_true_classes)\n",
    "y_pred_bin = np.vectorize(BINARY_MAP.get)(y_pred_classes)\n",
    "\n",
    "# Gerar matriz de confusão binarizada\n",
    "cm_bin = confusion_matrix(y_true_bin, y_pred_bin)\n",
    "\n",
    "# Visualizar a matriz de confusão binarizada\n",
    "plt.figure(figsize=(10, 7))\n",
    "sns.heatmap(cm_bin, annot=True, fmt='d', cmap='Blues', xticklabels=[\"Calçado/Malas\", \"Vestuário\"], yticklabels=[\"Calçado/Malas\", \"Vestuário\"])\n",
    "plt.xlabel('Predito')\n",
    "plt.ylabel('Real')\n",
    "plt.title('Matriz de Confusão Binarizada')\n",
    "plt.show()\n"
   ]
  },
  {
   "cell_type": "code",
   "execution_count": null,
   "metadata": {},
   "outputs": [],
   "source": [
    "# Gerar o relatório de métricas\n",
    "report = classification_report(y_true_bin, y_pred_bin, target_names=[\"Calçado/Malas\", \"Vestuário\"])\n",
    "\n",
    "# Exibir o relatório\n",
    "print(report)"
   ]
  },
  {
   "cell_type": "code",
   "execution_count": null,
   "metadata": {},
   "outputs": [],
   "source": [
    "TP = cm_bin[1, 1]  # Verdadeiro Positivo\n",
    "FP = cm_bin[0, 1]  # Falso Positivo\n",
    "TN = cm_bin[0, 0]  # Verdadeiro Negativo\n",
    "FN = cm_bin[1, 0]  # Falso Negativo\n",
    "\n",
    "# Precisão, Recall e F1-Score\n",
    "precision = TP / (TP + FP)\n",
    "recall = TP / (TP + FN)\n",
    "f1_score = 2 * (precision * recall) / (precision + recall)\n",
    "\n",
    "print(f\"Precisão: {precision}\")\n",
    "print(f\"Recall: {recall}\")\n",
    "print(f\"F1-Score: {f1_score}\")\n"
   ]
  }
 ],
 "metadata": {
  "kernelspec": {
   "display_name": "Python 3 (ipykernel)",
   "language": "python",
   "name": "python3"
  },
  "language_info": {
   "codemirror_mode": {
    "name": "ipython",
    "version": 3
   },
   "file_extension": ".py",
   "mimetype": "text/x-python",
   "name": "python",
   "nbconvert_exporter": "python",
   "pygments_lexer": "ipython3",
   "version": "3.10.16"
  }
 },
 "nbformat": 4,
 "nbformat_minor": 4
}
