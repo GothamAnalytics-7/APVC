{
 "cells": [
  {
   "cell_type": "markdown",
   "metadata": {},
   "source": [
    "<img src=\"https://www.iscte-iul.pt/assets/images/logo_iscte_detailed.svg\" style=\"width: 450px;margin-top:30px;\" align =\"center\">\n",
    "\n",
    "<div style= \"font-size: 40px;  margin-top:40px; font-weight:bold; font-family: 'Avenir Next LT Pro', sans-serif;\"><center>Challenge 2 - Part 2: <strong>Custom CNN</strong></center></div>\n",
    "<div style= \"font-size: 40px; font-weight:bold; font-family: 'Avenir Next LT Pro', sans-serif;\"><center>for cats_and_dogs dataset using neural networks</center></div>\n",
    "\n",
    "<div style= \"font-size: 27px;font-weight:bold;line-height: 1.1; margin-top:40px; font-family: 'Avenir Next LT Pro', sans-serif;\"><center>Aprendizagem Profunda para Visão por Computador 2024/2025</center></div> <br>\n",
    "\n",
    "   <div style= \"font-size: 20px;font-weight:bold; font-family: 'Avenir Next LT Pro', sans-serif;\"><center> Grupo 7:</center></div>\n",
    "   <div><center> Diogo Freitas | 104841 </center></div>\n",
    "   <div><center> João Francisco Botas | 104782 </center></div>\n",
    "   <div><center> Miguel Gonçalves | 105944 </center></div>\n",
    "   <div><center> Ricardo Galvão | 105285 </center></div>"
   ]
  },
  {
   "cell_type": "markdown",
   "metadata": {},
   "source": [
    "<!DOCTYPE html>\n",
    "<html lang=\"en\">\n",
    "<head>\n",
    "    <meta charset=\"UTF-8\">\n",
    "    <meta name=\"viewport\" content=\"width=device-width, initial-scale=1.0\">\n",
    "    <style>\n",
    "        body {\n",
    "            font-family: Arial, sans-serif;\n",
    "            background-color: #f4f4f4;\n",
    "            color: #333;\n",
    "            margin: 0;\n",
    "            padding: 20px;\n",
    "            line-height: 1.6;\n",
    "        }\n",
    "        ol {\n",
    "            counter-reset: section;\n",
    "            list-style: none;\n",
    "            padding-left: 0;\n",
    "        }\n",
    "        /* First-level list */\n",
    "        ol > li {\n",
    "            counter-increment: section;\n",
    "            margin-bottom: 10px;\n",
    "            padding-left: 0;\n",
    "        }\n",
    "        ol > li::before {\n",
    "            content: counters(section, \".\") \" \";\n",
    "            font-weight: bold;\n",
    "        }\n",
    "        /* Second-level list */\n",
    "        ol ol {\n",
    "            counter-reset: subsection;\n",
    "            padding-left: 20px;\n",
    "            margin-top: 5px;\n",
    "        }\n",
    "        ol ol > li {\n",
    "            counter-increment: subsection;\n",
    "            margin-bottom: 5px;\n",
    "            padding-left: 10px;\n",
    "        }\n",
    "        ol ol > li::before {\n",
    "            content: counters(section, \".\") \".\" counter(subsection) \" \";\n",
    "            font-weight: bold;\n",
    "        }\n",
    "        /* Third-level list */\n",
    "        ol ol ol {\n",
    "            counter-reset: subsubsection;\n",
    "            padding-left: 40px;\n",
    "            margin-top: 5px;\n",
    "        }\n",
    "        ol ol ol > li {\n",
    "            counter-increment: subsubsection;\n",
    "            margin-bottom: 5px;\n",
    "            padding-left: 10px;\n",
    "            font-size: 0.9em; /* Make font size smaller */\n",
    "            font-weight: normal; /* Remove bold styling */\n",
    "        }\n",
    "        ol ol ol > li::before {\n",
    "            content: counters(section, \".\") \".\" counter(subsection) \".\" counter(subsubsection) \" \";\n",
    "            font-weight: bold;\n",
    "        }\n",
    "        a {\n",
    "            text-decoration: none;\n",
    "            color: #007BFF;\n",
    "            font-weight: bold;\n",
    "        }\n",
    "        a:hover {\n",
    "            color: #0056b3;\n",
    "        }\n",
    "        footer {\n",
    "            margin-top: 50px;\n",
    "        }\n",
    "    </style>\n",
    "</head>\n",
    "<body>\n",
    "\n",
    "<h2><b>Índice</b></h2>\n",
    "<ol>\n",
    "    <li><a href=\"#1\">Objetivo desta parte</a></li>\n",
    "    <li><a href=\"#2\">Setup para desenvolvimento do projeto</a></li>\n",
    "            <ol>\n",
    "            <li><a href=\"#2.1\">Obter um conjunto de validação</a></li>\n",
    "        </ol>\n",
    "    <li><a href=\"#3\">Rede neuronal convolucional “custom”</a></li>\n",
    "        <ol>\n",
    "            <li><a href=\"#3.1\">Construir o modelo</a></li>\n",
    "            <li><a href=\"#3.2\">Compilar a rede</a></li>\n",
    "            <li><a href=\"#3.3\">Treinar o modelo – max 50 épocas, de pref. a usar callbacks</a></li>\n",
    "            <li><a href=\"#3.4\">Gráfico que mostre a evolução do treino</a></li>\n",
    "            <li><a href=\"#3.5\">Cálculo dos acertos no conjunto de teste</a></li>\n",
    "            <li><a href=\"#3.6\">Mostrar a matriz de confusão</a></li>\n",
    "        </ol>\n",
    "    <li><a href=\"#4\">Model Explanation</a></li>\n",
    "</ol>\n",
    "\n",
    "<footer></footer>\n",
    "\n",
    "</body>\n",
    "</html>"
   ]
  },
  {
   "cell_type": "markdown",
   "metadata": {},
   "source": [
    "# <a class='anchor' id='1'></a>\n",
    "\n",
    "> # **1. Objetivo desta parte** "
   ]
  },
  {
   "cell_type": "markdown",
   "metadata": {},
   "source": [
    "Dizer os objetivos"
   ]
  },
  {
   "cell_type": "markdown",
   "metadata": {},
   "source": [
    "# <a class='anchor' id='2'></a>\n",
    "\n",
    "> # **2. Setup para desenvolvimento do projeto**"
   ]
  },
  {
   "cell_type": "code",
   "execution_count": 1,
   "metadata": {},
   "outputs": [],
   "source": [
    "import tensorflow as tf\n",
    "import keras\n",
    "from keras import layers\n",
    "\n",
    "import numpy as np\n",
    "import pandas as pd\n",
    "import matplotlib.pyplot as plt\n",
    "from sklearn.metrics import ConfusionMatrixDisplay, confusion_matrix, classification_report\n",
    "from sklearn.model_selection import train_test_split\n",
    "import cv2\n",
    "\n",
    "import seaborn as sns\n",
    "import sys\n",
    "import os\n",
    "from pathlib import Path\n",
    "\n",
    "import nbformat\n",
    "from nbconvert import PythonExporter\n",
    "\n",
    "from tf_keras_vis.saliency import Saliency\n",
    "from tf_keras_vis.utils import normalize\n",
    "from tf_keras_vis.utils.scores import CategoricalScore\n",
    "\n",
    "from tensorflow.keras.models import Model "
   ]
  },
  {
   "cell_type": "code",
   "execution_count": 2,
   "metadata": {},
   "outputs": [],
   "source": [
    "# Configurar a seed do TensorFlow\n",
    "tf.keras.utils.set_random_seed(42)\n",
    "# Definir a seed global para a operação de GPU\n",
    "tf.config.experimental.enable_op_determinism()\n",
    "\n",
    "\n",
    "# Definir o número de threads\n",
    "os.environ['TF_CPP_MIN_LOG_LEVEL'] = '2'  # Para evitar log excessivo de TensorFlow\n",
    "os.environ['OMP_NUM_THREADS'] = '1'  # Para limitar o número de threads"
   ]
  },
  {
   "cell_type": "markdown",
   "metadata": {},
   "source": [
    "# <a class='anchor' id='2.1.'></a>\n",
    "\n",
    "> # **2.1. Criação de um conjunto de Validação**"
   ]
  },
  {
   "cell_type": "raw",
   "metadata": {},
   "source": [
    "%%capture\n",
    "\n",
    "# parte 1\n",
    "# Carregar o notebook\n",
    "with open(\"D2Parte1.ipynb\") as f:\n",
    "    notebook = nbformat.read(f, as_version=4)\n",
    "\n",
    "# Converter para código Python\n",
    "exporter = PythonExporter()\n",
    "code, _ = exporter.from_notebook_node(notebook)\n",
    "\n",
    "# Executar o código no ambiente atual\n",
    "exec(code)"
   ]
  },
  {
   "cell_type": "code",
   "execution_count": 3,
   "metadata": {},
   "outputs": [
    {
     "name": "stdout",
     "output_type": "stream",
     "text": [
      "Found 2000 files belonging to 2 classes.\n",
      "Found 1000 files belonging to 2 classes.\n",
      "Using 500 files for training.\n",
      "Using 500 files for validation.\n",
      "Train: 2000 samples, 50.00% dogs\n",
      "Validation: 500 samples, 49.40% dogs\n",
      "Test: 500 samples, 50.60% dogs\n"
     ]
    }
   ],
   "source": [
    "%run ../src/cats_and_dogs.py"
   ]
  },
  {
   "cell_type": "markdown",
   "metadata": {},
   "source": [
    "# <a class='anchor' id='3'></a>\n",
    "\n",
    "> # **3. Rede neuronal convolucional “custom”**"
   ]
  },
  {
   "cell_type": "markdown",
   "metadata": {},
   "source": [
    "# <a class='anchor' id='3.1'></a>\n",
    "\n",
    "> ## **a) Construir o modelo**"
   ]
  },
  {
   "cell_type": "code",
   "execution_count": 4,
   "metadata": {},
   "outputs": [],
   "source": [
    "# Baseline model\n",
    "baseline_model = keras.Sequential([\n",
    "    layers.Input(shape=(img_height, img_width, 3)),\n",
    "    layers.Conv2D(16, 5, padding='same', activation='relu'),\n",
    "    layers.Conv2D(32, 3, padding='same', activation='relu'),\n",
    "    layers.MaxPooling2D(pool_size=4),\n",
    "    layers.Conv2D(64, 3, padding='same', activation='relu'),\n",
    "    layers.MaxPooling2D(pool_size=2),\n",
    "    layers.Flatten(),\n",
    "    layers.Dense(128, activation='relu'),\n",
    "    layers.Dense(1, activation=\"sigmoid\")\n",
    "])\n",
    "\n",
    "# Model with more Conv2D layers\n",
    "conv2d_model = keras.Sequential([\n",
    "    layers.Input(shape=(img_height, img_width, 3)),\n",
    "    layers.Conv2D(16, 5, padding='same', activation='relu'),\n",
    "    layers.Conv2D(32, 3, padding='same', activation='relu'),\n",
    "    layers.MaxPooling2D(pool_size=4),\n",
    "    layers.Conv2D(64, 3, padding='same', activation='relu'),\n",
    "    layers.Conv2D(128, 3, padding='same', activation='relu'),\n",
    "    layers.MaxPooling2D(pool_size=2),\n",
    "    layers.Flatten(),\n",
    "    layers.Dense(128, activation='relu'),\n",
    "    layers.Dense(1, activation=\"sigmoid\")\n",
    "])\n",
    "\n",
    "# Model with dropout and more Conv2D layers\n",
    "dropout_model = keras.Sequential([\n",
    "    layers.Input(shape=(img_height, img_width, 3)),\n",
    "    layers.Conv2D(16, 5, padding='same', activation='relu'),\n",
    "    layers.Conv2D(32, 3, padding='same', activation='relu'),\n",
    "    layers.MaxPooling2D(pool_size=4),\n",
    "    layers.Conv2D(64, 3, padding='same', activation='relu'),\n",
    "    layers.Conv2D(128, 3, padding='same', activation='relu'),\n",
    "    layers.MaxPooling2D(pool_size=2),\n",
    "    layers.Flatten(),\n",
    "    layers.Dropout(0.3),\n",
    "    layers.Dense(128, activation='relu'),\n",
    "    layers.Dense(1, activation=\"sigmoid\")\n",
    "])\n",
    "\n",
    "# Model with dropout, more Conv2D layers and data augmentation\n",
    "\n",
    "data_augmentation = keras.Sequential([\n",
    "    layers.RandomFlip(\"horizontal\"),  # Espelhamento horizontal\n",
    "    layers.RandomRotation(0.1),  # Rotação até ±10%\n",
    "    layers.RandomZoom(0.1),  # Zoom in/out até ±10%\n",
    "    layers.RandomContrast(0.1),  # Ajuste de contraste\n",
    "    layers.RandomBrightness(0.1),  # Ajuste de brilho\n",
    "])\n",
    "\n",
    "final_model = keras.Sequential([\n",
    "    layers.Input(shape=(img_height, img_width, 3)),\n",
    "    data_augmentation,\n",
    "    layers.Conv2D(16, 5, padding='same', activation='relu'),\n",
    "    layers.Conv2D(32, 3, padding='same', activation='relu'),\n",
    "    layers.MaxPooling2D(pool_size=4),\n",
    "    layers.Conv2D(64, 3, padding='same', activation='relu'),\n",
    "    layers.Conv2D(128, 3, padding='same', activation='relu'),\n",
    "    layers.MaxPooling2D(pool_size=2),\n",
    "    layers.Flatten(),\n",
    "    layers.Dropout(0.3),\n",
    "    layers.Dense(128, activation='relu'),\n",
    "    layers.Dense(1, activation=\"sigmoid\")\n",
    "])"
   ]
  },
  {
   "cell_type": "code",
   "execution_count": 5,
   "metadata": {},
   "outputs": [],
   "source": [
    "ModelosEscolhidos = [baseline_model, conv2d_model, dropout_model, final_model]\n",
    "model = ModelosEscolhidos[3]\n",
    "\n",
    "ModelosEscolhidos = {\n",
    "    baseline_model: 'baseline_model',\n",
    "    conv2d_model: 'conv2d_model',\n",
    "    dropout_model: 'dropout_model',\n",
    "    final_model: 'final_model'\n",
    "}"
   ]
  },
  {
   "cell_type": "markdown",
   "metadata": {},
   "source": [
    "# <a class='anchor' id='3.2'></a>\n",
    "\n",
    "> ## **b) Compilar a rede**"
   ]
  },
  {
   "cell_type": "code",
   "execution_count": 6,
   "metadata": {},
   "outputs": [],
   "source": [
    "# Callback para guardar os pesos do melhor modelo\n",
    "best_model_checkpoint = keras.callbacks.ModelCheckpoint(\n",
    "    filepath=f\"tmp/{ModelosEscolhidos[model]}.weights.h5\",  # Caminho onde os pesos do melhor modelo serão guardados\n",
    "    save_weights_only=True,  # Apenas os pesos do modelo são guardados (não a arquitetura completa)\n",
    "    monitor='val_loss',  # Monitoriza a perda (loss) no conjunto de validação\n",
    "    mode='min',  # O melhor modelo será aquele que tiver a menor val_loss\n",
    "    save_best_only=True  # Apenas guarda o modelo se for o melhor encontrado até ao momento\n",
    ")\n",
    "\n",
    "# Callback para interromper o treino cedo caso a perda não melhore\n",
    "early_stopping = keras.callbacks.EarlyStopping(\n",
    "    monitor='val_loss',  # Monitoriza a perda no conjunto de validação\n",
    "    patience=5  # Se a val_loss não melhorar durante 5 epochs consecutivas, o treino é interrompido\n",
    ")\n",
    "\n",
    "# Callback para reduzir a taxa de aprendizagem quando a perda estabiliza\n",
    "reduce_lr = keras.callbacks.ReduceLROnPlateau(\n",
    "    monitor='val_loss',  # Monitoriza a perda no conjunto de validação\n",
    "    factor=0.5,  # Reduz a taxa de aprendizagem para 50% do valor atual\n",
    "    patience=7,  # Aguarda 7 epochs sem melhoria antes de reduzir a taxa de aprendizagem\n",
    "    min_lr=1e-6  # Define um limite mínimo para a taxa de aprendizagem (não reduz mais do que isto)\n",
    ")"
   ]
  },
  {
   "cell_type": "code",
   "execution_count": 7,
   "metadata": {},
   "outputs": [],
   "source": [
    "# Compilar o modelo\n",
    "model.compile(optimizer='adam', loss='binary_crossentropy', metrics=['accuracy', tf.keras.metrics.Precision(), tf.keras.metrics.Recall()])"
   ]
  },
  {
   "cell_type": "markdown",
   "metadata": {},
   "source": [
    "# <a class='anchor' id='3.3'></a>\n",
    "\n",
    "> ## **c) Treinar o modelo – max 50 épocas, de pref. a usar callbacks**\n"
   ]
  },
  {
   "cell_type": "code",
   "execution_count": null,
   "metadata": {},
   "outputs": [
    {
     "name": "stdout",
     "output_type": "stream",
     "text": [
      "Epoch 1/50\n",
      "\u001b[1m63/63\u001b[0m \u001b[32m━━━━━━━━━━━━━━━━━━━━\u001b[0m\u001b[37m\u001b[0m \u001b[1m64s\u001b[0m 963ms/step - accuracy: 0.5195 - loss: 50.4923 - precision: 0.5242 - recall: 0.4873 - val_accuracy: 0.5860 - val_loss: 0.6782 - val_precision: 0.5488 - val_recall: 0.9109 - learning_rate: 0.0010\n",
      "Epoch 2/50\n",
      "\u001b[1m46/63\u001b[0m \u001b[32m━━━━━━━━━━━━━━\u001b[0m\u001b[37m━━━━━━\u001b[0m \u001b[1m15s\u001b[0m 907ms/step - accuracy: 0.6179 - loss: 0.6660 - precision: 0.5985 - recall: 0.7345"
     ]
    }
   ],
   "source": [
    "# Treinar o modelo (máx. 50 épocas, usando callbacks)\n",
    "history = model.fit(train, epochs=50, \n",
    "                    validation_data=validation,\n",
    "                    callbacks=[best_model_checkpoint, early_stopping, reduce_lr])"
   ]
  },
  {
   "cell_type": "markdown",
   "metadata": {},
   "source": [
    "# <a class='anchor' id='3.4'></a>\n",
    "\n",
    "> ## **d) Gráfico que mostre a evolução do treino**"
   ]
  },
  {
   "cell_type": "code",
   "execution_count": null,
   "metadata": {},
   "outputs": [],
   "source": [
    "# Configurar o estilo do seaborn\n",
    "sns.set(style=\"whitegrid\", palette=\"muted\")\n",
    "\n",
    "# Criar a figura\n",
    "plt.figure(figsize=(14, 6))\n",
    "\n",
    "# Subplot para Loss\n",
    "plt.subplot(1, 2, 1)\n",
    "epochs = range(1, len(history.history['loss']))  # Garante que começa em 1\n",
    "plt.plot(epochs, history.history['loss'][1:], label='Train Loss', color=sns.color_palette(\"Blues\")[2], linestyle='-', marker='o', markersize=6)\n",
    "plt.plot(epochs, history.history['val_loss'][1:], label='Validation Loss', color=sns.color_palette(\"Reds\")[2], linestyle='--', marker='s', markersize=6)\n",
    "plt.xlabel('Épocas', fontsize=12)\n",
    "plt.ylabel('Loss', fontsize=12)\n",
    "plt.title('Evolução do Loss', fontsize=14, fontweight='bold')\n",
    "plt.legend()\n",
    "plt.grid(True, linestyle='--', alpha=0.6)\n",
    "\n",
    "# Definir os ticks do eixo X para começar em 1\n",
    "plt.xticks(epochs)\n",
    "\n",
    "\n",
    "# Subplot para Accuracy\n",
    "plt.subplot(1, 2, 2)\n",
    "plt.plot(history.history['accuracy'], label='Train Accuracy', color=sns.color_palette(\"Blues\")[2], linestyle='-', marker='o', markersize=6)\n",
    "plt.plot(history.history['val_accuracy'], label='Validation Accuracy', color=sns.color_palette(\"Reds\")[2], linestyle='--', marker='s', markersize=6)\n",
    "plt.xlabel('Épocas', fontsize=12)\n",
    "plt.ylabel('Accuracy', fontsize=12)\n",
    "plt.title('Evolução da Accuracy', fontsize=14, fontweight='bold')\n",
    "plt.ylim(0, 1)  # Garantir que o eixo Y da Accuracy vai de 0 a 1\n",
    "plt.legend()\n",
    "plt.grid(True, linestyle='--', alpha=0.6)\n",
    "\n",
    "# Adicionar um título geral à figura\n",
    "plt.suptitle(f'Evolução do Treino do {ModelosEscolhidos[model]}', fontsize=16, fontweight='bold')\n",
    "\n",
    "# Ajustar espaçamento\n",
    "plt.tight_layout()\n",
    "plt.show()"
   ]
  },
  {
   "cell_type": "code",
   "execution_count": null,
   "metadata": {},
   "outputs": [],
   "source": [
    "# Carregar melhor modelo em validação\n",
    "model.load_weights(\"tmp/baseline.weights.h5\")\n",
    "model.summary()"
   ]
  },
  {
   "cell_type": "markdown",
   "metadata": {},
   "source": [
    "# <a class='anchor' id='3.5'></a>\n",
    "\n",
    "> ## **e) Cálculo dos acertos no conjunto de teste**"
   ]
  },
  {
   "cell_type": "code",
   "execution_count": null,
   "metadata": {},
   "outputs": [],
   "source": [
    "train_list = list(train)\n",
    "first_batch_x, first_batch_y = train_list[0]\n",
    "len(train_labels)"
   ]
  },
  {
   "cell_type": "code",
   "execution_count": null,
   "metadata": {},
   "outputs": [],
   "source": [
    "# Avaliação no conjunto de teste\n",
    "test_loss, test_acc = model.evaluate(test, verbose=0)[:2]\n",
    "num_acertos = int(test_acc * len(test_labels))\n",
    "print(f'Accuracy no conjunto de teste: {test_acc:.4f}')\n",
    "print(f'Número absoluto de acertos: {num_acertos}/{len(test_labels)}')"
   ]
  },
  {
   "cell_type": "markdown",
   "metadata": {},
   "source": [
    "# <a class='anchor' id='3.6'></a>\n",
    "\n",
    "> ## **f) Mostrar a matriz de confusão**"
   ]
  },
  {
   "cell_type": "code",
   "execution_count": null,
   "metadata": {},
   "outputs": [],
   "source": [
    "# Predições e matriz de confusão\n",
    "y_pred = model.predict(test)\n",
    "y_pred_classes = y_pred.squeeze()>0.5\n",
    "y_true_classes = test_labels.squeeze()\n",
    "\n",
    "cm = confusion_matrix(y_true_classes, y_pred_classes)\n",
    "plt.figure(figsize=(10, 7))\n",
    "sns.heatmap(cm, annot=True, fmt='d', cmap='Blues', xticklabels=labels, yticklabels=labels)\n",
    "plt.xlabel('Predito')\n",
    "plt.ylabel('Real')\n",
    "plt.title(f'Matriz de Confusão - {ModelosEscolhidos[model]}')\n",
    "plt.xticks(rotation=45)\n",
    "plt.yticks(rotation=45)\n",
    "plt.show()"
   ]
  },
  {
   "cell_type": "code",
   "execution_count": null,
   "metadata": {},
   "outputs": [],
   "source": [
    "# Relatório de classificação\n",
    "print(\"Relatório de Classificação:\")\n",
    "print(classification_report(y_true_classes, y_pred_classes, target_names=labels))"
   ]
  },
  {
   "cell_type": "markdown",
   "metadata": {},
   "source": [
    "# <a class='anchor' id='5'></a>\n",
    "\n",
    "> # **4. Model Explanation**"
   ]
  },
  {
   "cell_type": "code",
   "execution_count": null,
   "metadata": {},
   "outputs": [],
   "source": [
    "model.summary()"
   ]
  },
  {
   "cell_type": "code",
   "execution_count": null,
   "metadata": {},
   "outputs": [],
   "source": [
    "linear_model = tf.keras.models.Model(inputs=[model.layers[0].input], outputs=[model.layers[-2].output])\n",
    "train_preds = model.predict(train).squeeze()\n",
    "labels"
   ]
  },
  {
   "cell_type": "code",
   "execution_count": null,
   "metadata": {},
   "outputs": [],
   "source": [
    "train_list = list(train)\n",
    "score = CategoricalScore([0])\n",
    "saliency = Saliency(model, clone=False)"
   ]
  },
  {
   "cell_type": "code",
   "execution_count": null,
   "metadata": {},
   "outputs": [],
   "source": [
    "# Load and preprocess an example image\n",
    "img_id = 0 # 5656\n",
    "img = train_list[0][0][img_id]  # Tensor\n",
    "img_array = np.expand_dims(img, axis = 0)  # Normalize and add batch dimension, now numpy array\n",
    "# Compute saliency map\n",
    "saliency_map = saliency(score, img_array, smooth_samples=20, smooth_noise=0.2)\n",
    "saliency_map = normalize(saliency_map)\n",
    "# Overlay saliency map on original image\n",
    "heatmap = cv2.cvtColor(cv2.applyColorMap(np.uint8(np.floor(saliency_map*255)).squeeze(), cv2.COLORMAP_VIRIDIS), cv2.COLOR_BGR2RGB)\n",
    "overlay = cv2.addWeighted(heatmap, 0.7, np.uint8(img), 0.2, 0)\n",
    "\n",
    "# Display results\n",
    "fig, ax = plt.subplots(1, 2, figsize=(15, 5))\n",
    "ax[0].imshow(img/255)\n",
    "ax[0].set_title(f\"Original Image: {labels[int(train_list[0][1][img_id])]}\")\n",
    "ax[0].axis(\"off\")\n",
    "\n",
    "ax[1].imshow(overlay)\n",
    "ax[1].set_title(f\"Probabilidade {labels[1]}: {train_preds[img_id]:.3f}\")\n",
    "ax[1].axis(\"off\")\n",
    "\n",
    "plt.show()"
   ]
  },
  {
   "cell_type": "code",
   "execution_count": null,
   "metadata": {},
   "outputs": [],
   "source": [
    "# https://tree.rocks/get-heatmap-from-cnn-convolution-neural-network-aka-grad-cam-222e08f57a34"
   ]
  }
 ],
 "metadata": {
  "kernelspec": {
   "display_name": "Python 3 (ipykernel)",
   "language": "python",
   "name": "python3"
  },
  "language_info": {
   "codemirror_mode": {
    "name": "ipython",
    "version": 3
   },
   "file_extension": ".py",
   "mimetype": "text/x-python",
   "name": "python",
   "nbconvert_exporter": "python",
   "pygments_lexer": "ipython3",
   "version": "3.10.16"
  }
 },
 "nbformat": 4,
 "nbformat_minor": 4
}
